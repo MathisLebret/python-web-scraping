{
 "cells": [
  {
   "cell_type": "markdown",
   "id": "151dbbba-3902-421d-82c4-339aff398677",
   "metadata": {},
   "source": [
    "# Web Scraping of UN Countries Data"
   ]
  },
  {
   "cell_type": "markdown",
   "id": "3d2d1e0e-dba5-4f39-8044-782cc349a9e4",
   "metadata": {},
   "source": [
    "## Project Overview"
   ]
  },
  {
   "cell_type": "markdown",
   "id": "a5ae2061-feaf-4599-b531-d2d2d8d0f4fd",
   "metadata": {},
   "source": [
    "This projects aims at showcasing my skills in **Python** and **web scraping** by collecting country data from infoboxes on Wikipedia.\\\n",
    "The focus here is on demonstrating the technical process of data extraction and preparation, the exact accuracy or utility of the data itself is not critical.\n",
    "\n",
    "Using **scraping libraries**, this script extracts **public information** that could be used for an econometric study.\n",
    "\n",
    "The result will be a dataframe where individuals are **UN member countries**, and the variables are:\\\n",
    "    **Qualitative**\\\n",
    "    _ Capital city\\\n",
    "    _ Currency\\\n",
    "    _ Official Language\\\n",
    "    **Quantitative**\\\n",
    "    _ Population\\\n",
    "    _ GDP\\\n",
    "    _ Human Development Index\n"
   ]
  },
  {
   "cell_type": "markdown",
   "id": "c6fcbd40-6c01-447a-ad67-d6ba7550c8bb",
   "metadata": {},
   "source": [
    "## Importing Libraries"
   ]
  },
  {
   "cell_type": "code",
   "execution_count": 1,
   "id": "bbc9afc8-7d66-433c-aff6-ba7bd4268847",
   "metadata": {},
   "outputs": [],
   "source": [
    "import pandas as pd\n",
    "import numpy as np\n",
    "from bs4 import BeautifulSoup\n",
    "import requests\n",
    "\n",
    "import re # used to remove footnote indicators\n",
    "from countryinfo import CountryInfo # used to get countries common names\n",
    "\n",
    "# used to charge the code after modifying CountryScraping.py\n",
    "%load_ext autoreload\n",
    "%autoreload 2\n",
    "import CountryScraping"
   ]
  },
  {
   "cell_type": "markdown",
   "id": "0f50bce5-cbb5-415d-af96-e7ade7798ced",
   "metadata": {},
   "source": [
    "## Data Collection (Wikipedia Scraping)"
   ]
  },
  {
   "cell_type": "markdown",
   "id": "6a9cdd6c-e708-480f-bbc8-880bdea36914",
   "metadata": {},
   "source": [
    "### Extracting the list of UN member countries "
   ]
  },
  {
   "cell_type": "code",
   "execution_count": 2,
   "id": "b2ee3876-4eaf-4ccd-a673-e3f41fde1f02",
   "metadata": {},
   "outputs": [],
   "source": [
    "url = \"https://en.wikipedia.org/wiki/Member_states_of_the_United_Nations\"\n",
    "wiki_list_member = pd.read_html(url)\n",
    "member_states = wiki_list_member[0]\n",
    "member_states = member_states['Member state']"
   ]
  },
  {
   "cell_type": "markdown",
   "id": "d12670ef-539d-477a-a10e-61a33ca09386",
   "metadata": {},
   "source": [
    "### Cleaning the list of UN member countries"
   ]
  },
  {
   "cell_type": "code",
   "execution_count": 3,
   "id": "5f28739a-db33-4ed1-b958-a35278e78a96",
   "metadata": {},
   "outputs": [],
   "source": [
    "# Remove footnote indicators\n",
    "\n",
    "def clean_text(text):\n",
    "    if isinstance(text, str):  # Si la valeur est une chaîne de caractères\n",
    "        return re.sub(r'\\[.*?\\]', '', text)  # Enlever les indices entre crochets\n",
    "    return text\n",
    "\n",
    "member_states = member_states.map(clean_text)\n",
    "\n",
    "# Change official names to Common names (Wikipedia pages use common name)\n",
    "\n",
    "def common_country_name(country_name):\n",
    "    country = CountryInfo(country_name)\n",
    "    return country.name()\n",
    "\n",
    "member_states = member_states.map(common_country_name)\n",
    "member_states = member_states.str.capitalize() # first letter of countries as capital\n",
    "member_states = member_states.str.replace(' ', '_') # Viet nam as Viet_nam for URL"
   ]
  },
  {
   "cell_type": "markdown",
   "id": "95f7b574-7fba-4fb7-a5df-146075516e53",
   "metadata": {},
   "source": [
    "### Extracting the variables"
   ]
  },
  {
   "cell_type": "code",
   "execution_count": 4,
   "id": "abddeac9-f8dd-45ed-b00e-7a5f75e78a35",
   "metadata": {},
   "outputs": [
    {
     "name": "stdout",
     "output_type": "stream",
     "text": [
      "Number of missing countries: 12 over 193.\n",
      "It represents: 6.218% of UN countries\n",
      "                       Capital Currency  \\\n",
      "Member state                              \n",
      "Afghanistan              Kabul      AFN   \n",
      "Albania                 Tirana      ALL   \n",
      "Algeria                Algiers      DZD   \n",
      "Andorra       Andorra la Vella      EUR   \n",
      "Angola                  Luanda      AOA   \n",
      "...                        ...      ...   \n",
      "Venezuela              Caracas      NaN   \n",
      "Viet_nam                 Hanoi      VND   \n",
      "Yemen                    Sanaa      YER   \n",
      "Zambia                  Lusaka      ZMW   \n",
      "Zimbabwe                Harare      NaN   \n",
      "\n",
      "                                                       Language   Population  \\\n",
      "Member state                                                                   \n",
      "Afghanistan                                         Pashto/Dari   41128771.0   \n",
      "Albania                                                Albanian    2402113.0   \n",
      "Algeria                                           Arabic/Berber   46700000.0   \n",
      "Andorra                                                 Catalan      85863.0   \n",
      "Angola                                               Portuguese   37290193.0   \n",
      "...                                                         ...          ...   \n",
      "Venezuela                                               Spanish   30518260.0   \n",
      "Viet_nam                                             Vietnamese  100300000.0   \n",
      "Yemen                                                    Arabic   34449825.0   \n",
      "Zambia                                                  English   20216029.0   \n",
      "Zimbabwe      ChewaChibarweEnglishKalangaKoisanNambyaNdauNde...   16868409.0   \n",
      "\n",
      "                       GDP    HDI  \n",
      "Member state                       \n",
      "Afghanistan   8.100700e+10  0.462  \n",
      "Albania       5.819600e+10  0.789  \n",
      "Algeria       7.685200e+11  0.745  \n",
      "Andorra       6.001000e+09  0.884  \n",
      "Angola        3.749400e+11  0.591  \n",
      "...                    ...    ...  \n",
      "Venezuela     2.119260e+11  0.699  \n",
      "Viet_nam      1.559000e+12  0.726  \n",
      "Yemen         6.996300e+10  0.424  \n",
      "Zambia        8.368700e+10  0.569  \n",
      "Zimbabwe      4.444800e+10  0.550  \n",
      "\n",
      "[181 rows x 6 columns]\n"
     ]
    }
   ],
   "source": [
    "df = pd.DataFrame(np.nan, index=range(len(member_states)), columns=range(6))\n",
    "df.columns = ['Capital', 'Currency', 'Language', 'Population', 'GDP', 'HDI']\n",
    "\n",
    "# Considering qualitative variables as objects (instead of float64)\n",
    "df['Capital'] = df['Capital'].astype('object')\n",
    "df['Currency'] = df['Currency'].astype('object')\n",
    "df['Language'] = df['Language'].astype('object')\n",
    "\n",
    "nb_errors = 0 # the scrapping didn't work for some countries (I plan to fix it later)\n",
    "\n",
    "for i in range(len(df)):\n",
    "    try:\n",
    "        country_name = member_states[i]\n",
    "        infobox = CountryScraping.get_infobox(country_name)\n",
    "        df.loc[i,'Capital'] = CountryScraping.get_capital(infobox)\n",
    "        df.loc[i,'Currency'] = CountryScraping.get_currency(infobox)\n",
    "        df.loc[i,'Language'] = CountryScraping.get_language(infobox)\n",
    "        df.loc[i,'Population'] = CountryScraping.get_population(infobox)\n",
    "        df.loc[i,'GDP'] = CountryScraping.get_GDP(infobox)\n",
    "        df.loc[i,'HDI'] = CountryScraping.get_HDI(infobox)\n",
    "    except:\n",
    "        df.loc[i] = np.nan #countries for which there was an error\n",
    "        nb_errors = nb_errors+1\n",
    "\n",
    "df.index = member_states\n",
    "\n",
    "countries_data = df.dropna(axis=0, how='all') #remove countries for which data wasn't collected\n",
    "#renaming the processed df for understanding of the data\n",
    "\n",
    "print(f\"Number of missing countries: {nb_errors} over {len(member_states)}.\")\n",
    "print(f\"It represents: {nb_errors/193*100:.3f}% of UN countries\")\n",
    "print(countries_data)"
   ]
  },
  {
   "cell_type": "markdown",
   "id": "d22362a0-e6a9-4b9e-a6bf-84582bcfb608",
   "metadata": {},
   "source": [
    "## Result DataFrame"
   ]
  },
  {
   "cell_type": "code",
   "execution_count": 5,
   "id": "584fbd97-f003-4006-9829-2a81a65f5a93",
   "metadata": {},
   "outputs": [
    {
     "data": {
      "text/html": [
       "<div>\n",
       "<style scoped>\n",
       "    .dataframe tbody tr th:only-of-type {\n",
       "        vertical-align: middle;\n",
       "    }\n",
       "\n",
       "    .dataframe tbody tr th {\n",
       "        vertical-align: top;\n",
       "    }\n",
       "\n",
       "    .dataframe thead th {\n",
       "        text-align: right;\n",
       "    }\n",
       "</style>\n",
       "<table border=\"1\" class=\"dataframe\">\n",
       "  <thead>\n",
       "    <tr style=\"text-align: right;\">\n",
       "      <th></th>\n",
       "      <th>Capital</th>\n",
       "      <th>Currency</th>\n",
       "      <th>Language</th>\n",
       "      <th>Population</th>\n",
       "      <th>GDP</th>\n",
       "      <th>HDI</th>\n",
       "    </tr>\n",
       "    <tr>\n",
       "      <th>Member state</th>\n",
       "      <th></th>\n",
       "      <th></th>\n",
       "      <th></th>\n",
       "      <th></th>\n",
       "      <th></th>\n",
       "      <th></th>\n",
       "    </tr>\n",
       "  </thead>\n",
       "  <tbody>\n",
       "    <tr>\n",
       "      <th>Afghanistan</th>\n",
       "      <td>Kabul</td>\n",
       "      <td>AFN</td>\n",
       "      <td>Pashto/Dari</td>\n",
       "      <td>41128771.0</td>\n",
       "      <td>8.100700e+10</td>\n",
       "      <td>0.462</td>\n",
       "    </tr>\n",
       "    <tr>\n",
       "      <th>Albania</th>\n",
       "      <td>Tirana</td>\n",
       "      <td>ALL</td>\n",
       "      <td>Albanian</td>\n",
       "      <td>2402113.0</td>\n",
       "      <td>5.819600e+10</td>\n",
       "      <td>0.789</td>\n",
       "    </tr>\n",
       "    <tr>\n",
       "      <th>Algeria</th>\n",
       "      <td>Algiers</td>\n",
       "      <td>DZD</td>\n",
       "      <td>Arabic/Berber</td>\n",
       "      <td>46700000.0</td>\n",
       "      <td>7.685200e+11</td>\n",
       "      <td>0.745</td>\n",
       "    </tr>\n",
       "    <tr>\n",
       "      <th>Andorra</th>\n",
       "      <td>Andorra la Vella</td>\n",
       "      <td>EUR</td>\n",
       "      <td>Catalan</td>\n",
       "      <td>85863.0</td>\n",
       "      <td>6.001000e+09</td>\n",
       "      <td>0.884</td>\n",
       "    </tr>\n",
       "    <tr>\n",
       "      <th>Angola</th>\n",
       "      <td>Luanda</td>\n",
       "      <td>AOA</td>\n",
       "      <td>Portuguese</td>\n",
       "      <td>37290193.0</td>\n",
       "      <td>3.749400e+11</td>\n",
       "      <td>0.591</td>\n",
       "    </tr>\n",
       "    <tr>\n",
       "      <th>...</th>\n",
       "      <td>...</td>\n",
       "      <td>...</td>\n",
       "      <td>...</td>\n",
       "      <td>...</td>\n",
       "      <td>...</td>\n",
       "      <td>...</td>\n",
       "    </tr>\n",
       "    <tr>\n",
       "      <th>Venezuela</th>\n",
       "      <td>Caracas</td>\n",
       "      <td>NaN</td>\n",
       "      <td>Spanish</td>\n",
       "      <td>30518260.0</td>\n",
       "      <td>2.119260e+11</td>\n",
       "      <td>0.699</td>\n",
       "    </tr>\n",
       "    <tr>\n",
       "      <th>Viet_nam</th>\n",
       "      <td>Hanoi</td>\n",
       "      <td>VND</td>\n",
       "      <td>Vietnamese</td>\n",
       "      <td>100300000.0</td>\n",
       "      <td>1.559000e+12</td>\n",
       "      <td>0.726</td>\n",
       "    </tr>\n",
       "    <tr>\n",
       "      <th>Yemen</th>\n",
       "      <td>Sanaa</td>\n",
       "      <td>YER</td>\n",
       "      <td>Arabic</td>\n",
       "      <td>34449825.0</td>\n",
       "      <td>6.996300e+10</td>\n",
       "      <td>0.424</td>\n",
       "    </tr>\n",
       "    <tr>\n",
       "      <th>Zambia</th>\n",
       "      <td>Lusaka</td>\n",
       "      <td>ZMW</td>\n",
       "      <td>English</td>\n",
       "      <td>20216029.0</td>\n",
       "      <td>8.368700e+10</td>\n",
       "      <td>0.569</td>\n",
       "    </tr>\n",
       "    <tr>\n",
       "      <th>Zimbabwe</th>\n",
       "      <td>Harare</td>\n",
       "      <td>NaN</td>\n",
       "      <td>ChewaChibarweEnglishKalangaKoisanNambyaNdauNde...</td>\n",
       "      <td>16868409.0</td>\n",
       "      <td>4.444800e+10</td>\n",
       "      <td>0.550</td>\n",
       "    </tr>\n",
       "  </tbody>\n",
       "</table>\n",
       "<p>181 rows × 6 columns</p>\n",
       "</div>"
      ],
      "text/plain": [
       "                       Capital Currency  \\\n",
       "Member state                              \n",
       "Afghanistan              Kabul      AFN   \n",
       "Albania                 Tirana      ALL   \n",
       "Algeria                Algiers      DZD   \n",
       "Andorra       Andorra la Vella      EUR   \n",
       "Angola                  Luanda      AOA   \n",
       "...                        ...      ...   \n",
       "Venezuela              Caracas      NaN   \n",
       "Viet_nam                 Hanoi      VND   \n",
       "Yemen                    Sanaa      YER   \n",
       "Zambia                  Lusaka      ZMW   \n",
       "Zimbabwe                Harare      NaN   \n",
       "\n",
       "                                                       Language   Population  \\\n",
       "Member state                                                                   \n",
       "Afghanistan                                         Pashto/Dari   41128771.0   \n",
       "Albania                                                Albanian    2402113.0   \n",
       "Algeria                                           Arabic/Berber   46700000.0   \n",
       "Andorra                                                 Catalan      85863.0   \n",
       "Angola                                               Portuguese   37290193.0   \n",
       "...                                                         ...          ...   \n",
       "Venezuela                                               Spanish   30518260.0   \n",
       "Viet_nam                                             Vietnamese  100300000.0   \n",
       "Yemen                                                    Arabic   34449825.0   \n",
       "Zambia                                                  English   20216029.0   \n",
       "Zimbabwe      ChewaChibarweEnglishKalangaKoisanNambyaNdauNde...   16868409.0   \n",
       "\n",
       "                       GDP    HDI  \n",
       "Member state                       \n",
       "Afghanistan   8.100700e+10  0.462  \n",
       "Albania       5.819600e+10  0.789  \n",
       "Algeria       7.685200e+11  0.745  \n",
       "Andorra       6.001000e+09  0.884  \n",
       "Angola        3.749400e+11  0.591  \n",
       "...                    ...    ...  \n",
       "Venezuela     2.119260e+11  0.699  \n",
       "Viet_nam      1.559000e+12  0.726  \n",
       "Yemen         6.996300e+10  0.424  \n",
       "Zambia        8.368700e+10  0.569  \n",
       "Zimbabwe      4.444800e+10  0.550  \n",
       "\n",
       "[181 rows x 6 columns]"
      ]
     },
     "execution_count": 5,
     "metadata": {},
     "output_type": "execute_result"
    }
   ],
   "source": [
    "#Results obtained from the scraping\n",
    "countries_data"
   ]
  },
  {
   "cell_type": "code",
   "execution_count": 6,
   "id": "5df8f988-7aa7-4e45-9230-8b097accc932",
   "metadata": {},
   "outputs": [],
   "source": [
    "#Saving datas as a CSV file:\n",
    "countries_data.to_csv(\"UN_members_data_November_2024\", index=False)"
   ]
  },
  {
   "cell_type": "markdown",
   "id": "36720d8d-461b-4236-b003-b8191da47602",
   "metadata": {},
   "source": [
    "## Quick example of data manipulation"
   ]
  },
  {
   "cell_type": "code",
   "execution_count": 7,
   "id": "ef8612cf-abdd-4276-978c-fe8c1ded06fb",
   "metadata": {},
   "outputs": [
    {
     "data": {
      "image/png": "[encoded data removed]",
      "text/plain": [
       "<Figure size 640x480 with 1 Axes>"
      ]
     },
     "metadata": {},
     "output_type": "display_data"
    }
   ],
   "source": [
    "# Visual example of what we can use the data for\n",
    "\n",
    "import matplotlib.pyplot as plt\n",
    "plt.scatter(countries_data[\"Population\"],countries_data[\"HDI\"])\n",
    "plt.xscale('log')\n",
    "\n",
    "# From this plot, we can make the hypothesis of an absence of correlation between the size of the population and HDI for UN member countries."
   ]
  },
  {
   "cell_type": "code",
   "execution_count": null,
   "id": "d85dcf51-5af5-4eb5-9b8f-1bae521f822d",
   "metadata": {},
   "outputs": [],
   "source": []
  }
 ],
 "metadata": {
  "kernelspec": {
   "display_name": "Python 3 (ipykernel)",
   "language": "python",
   "name": "python3"
  },
  "language_info": {
   "codemirror_mode": {
    "name": "ipython",
    "version": 3
   },
   "file_extension": ".py",
   "mimetype": "text/x-python",
   "name": "python",
   "nbconvert_exporter": "python",
   "pygments_lexer": "ipython3",
   "version": "3.12.3"
  }
 },
 "nbformat": 4,
 "nbformat_minor": 5
}
